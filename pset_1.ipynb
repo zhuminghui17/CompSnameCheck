{
  "nbformat": 4,
  "nbformat_minor": 0,
  "metadata": {
    "colab": {
      "name": "pset 1.ipynb",
      "provenance": [],
      "collapsed_sections": [],
      "authorship_tag": "ABX9TyNM6LuYbyN/zaX6fybasThH",
      "include_colab_link": true
    },
    "kernelspec": {
      "name": "python3",
      "display_name": "Python 3"
    },
    "language_info": {
      "name": "python"
    }
  },
  "cells": [
    {
      "cell_type": "markdown",
      "metadata": {
        "id": "view-in-github",
        "colab_type": "text"
      },
      "source": [
        "<a href=\"https://colab.research.google.com/github/zhuminghui17/CompSnameCheck/blob/main/pset_1.ipynb\" target=\"_parent\"><img src=\"https://colab.research.google.com/assets/colab-badge.svg\" alt=\"Open In Colab\"/></a>"
      ]
    },
    {
      "cell_type": "markdown",
      "source": [
        "# Introductory Python Problem Set\n",
        "## [Basic Python Exercises](https://pynative.com/python-basic-exercise-for-beginners/) - 1, 2, 10, 11, 14, 15\n"
      ],
      "metadata": {
        "id": "hy5seMqpe2Q8"
      }
    },
    {
      "cell_type": "code",
      "execution_count": 6,
      "metadata": {
        "colab": {
          "base_uri": "https://localhost:8080/"
        },
        "id": "XNhSrLMjdzdW",
        "outputId": "901fd338-3084-48a3-b6ca-1aba693e6da5"
      },
      "outputs": [
        {
          "output_type": "stream",
          "name": "stdout",
          "text": [
            "the result is  600\n",
            "the result is  70\n"
          ]
        }
      ],
      "source": [
        "#Exercise 1: Calculate the multiplication and sum of two numbers\n",
        "def multi_sum (num1, num2):\n",
        "  if num1 * num2 <= 1000:\n",
        "    return num1 * num2\n",
        "  else:\n",
        "    return num1 + num2\n",
        "\n",
        "result1 = multi_sum (20, 30)\n",
        "print(\"the result is \", result1)\n",
        "\n",
        "result2 = multi_sum (30, 40)\n",
        "print(\"the result is \", result2)"
      ]
    },
    {
      "cell_type": "code",
      "source": [
        "#Exercise 2: Print the sum of the current number and the previous number\n"
      ],
      "metadata": {
        "id": "95Ajk7hfhv-K"
      },
      "execution_count": 24,
      "outputs": []
    },
    {
      "cell_type": "code",
      "source": [
        "# Exercise 10: Create a new list from a two list using the following condition\n",
        "# Given a two list of numbers, write a program to create a new list such that the new list \n",
        "# should contain odd numbers from the first list and even numbers from the second list.\n",
        "\n",
        "def sum_select (list1, list2):\n",
        "  new_list = []\n",
        "  for i in list1:\n",
        "    if i % 2 != 0:\n",
        "      new_list.append(i)\n",
        "    i = i+1\n",
        "  for j in list2:\n",
        "    if j % 2 == 0:\n",
        "      new_list.append(j)\n",
        "    j = j+1\n",
        "  print(new_list)  \n",
        "\n",
        "list1 = [10, 20, 25, 30, 35]\n",
        "list2 = [40, 45, 60, 75, 90]\n",
        "\n",
        "sum_select(list1, list2)"
      ],
      "metadata": {
        "colab": {
          "base_uri": "https://localhost:8080/"
        },
        "id": "ijksfB3Zjog-",
        "outputId": "686fdc2a-6091-4744-c489-d3c38872975b"
      },
      "execution_count": 27,
      "outputs": [
        {
          "output_type": "stream",
          "name": "stdout",
          "text": [
            "[25, 35, 40, 60, 90]\n"
          ]
        }
      ]
    },
    {
      "cell_type": "code",
      "source": [
        "# Exercise 11: Write a Program to extract each digit from an integer in the reverse order.\n",
        "# For example, If the given int is 7536, the output shall be “6 3 5 7“, with a space separating the digits.\n",
        "\n",
        "\n",
        "def fun1 (int):\n",
        "  int_str = str(int)\n",
        "  len1 = len(int_str)\n",
        "  prev = \"\" \n",
        "  \n",
        "  for i in range(len(int_str)):\n",
        "   if i <= len1:\n",
        "      prev = prev + int_str[-i] + \" \"\n",
        "      i = i+1\n",
        "  print(prev)\n"
      ],
      "metadata": {
        "colab": {
          "base_uri": "https://localhost:8080/",
          "height": 35
        },
        "id": "ZOBkzmJ8uDCd",
        "outputId": "c738ad50-1558-40e5-c34b-6ec0c352cd73"
      },
      "execution_count": 65,
      "outputs": [
        {
          "output_type": "execute_result",
          "data": {
            "text/plain": [
              "'6'"
            ],
            "application/vnd.google.colaboratory.intrinsic+json": {
              "type": "string"
            }
          },
          "metadata": {},
          "execution_count": 65
        }
      ]
    },
    {
      "cell_type": "code",
      "source": [
        "# Exercise 12: Calculate income tax for the given income by adhering to the below rules\n",
        "# For example, suppose the taxable income is 45000 the income tax payable is\n",
        "# 10000*0% + 10000*10%  + 25000*20% = $6000.\n",
        "def income_tax (income):\n",
        "  if income <= 10000:\n",
        "    income_tax = 0\n",
        "  elif income <= 20000:\n",
        "    income_tax = 0+ (income - 10000) * 0.1\n",
        "  else:\n",
        "    income_tax = 0+ 10000 * 0.1 + (income - 20000) * 0.2\n",
        "  print(income_tax)\n",
        "\n",
        "\n",
        "income_tax (45000)\n",
        "  "
      ],
      "metadata": {
        "colab": {
          "base_uri": "https://localhost:8080/"
        },
        "id": "-8GRnxxOu6ad",
        "outputId": "fbcb9ac3-c00d-4d5f-e1e6-58148a5b2fa6"
      },
      "execution_count": 68,
      "outputs": [
        {
          "output_type": "stream",
          "name": "stdout",
          "text": [
            "6000.0\n"
          ]
        }
      ]
    },
    {
      "cell_type": "code",
      "source": [
        "# Exercise 3: Calculate the sum of all numbers from 1 to a given number\n",
        "num = 10\n",
        "sum = 0\n",
        "\n",
        "\n",
        "for i in range(1, num+1):\n",
        "   sum = sum + i\n",
        "   i = i + 1\n",
        "\n",
        "print(sum)\n"
      ],
      "metadata": {
        "colab": {
          "base_uri": "https://localhost:8080/"
        },
        "id": "TWoa39I22jkC",
        "outputId": "cd447c59-b5c4-456c-dbee-47a8138af7ce"
      },
      "execution_count": 89,
      "outputs": [
        {
          "output_type": "stream",
          "name": "stdout",
          "text": [
            "55\n"
          ]
        }
      ]
    },
    {
      "cell_type": "code",
      "source": [
        "# Exercise 5: Display numbers from a list using loop\n",
        "\n",
        "def fun5 (list):\n",
        "  new_list = []\n",
        "  for i in list:\n",
        "    if i % 5 == 0:\n",
        "      new_list = new_list.append(i)\n",
        "    "
      ],
      "metadata": {
        "id": "vaU_-JKb5Ihz"
      },
      "execution_count": 90,
      "outputs": []
    }
  ]
}